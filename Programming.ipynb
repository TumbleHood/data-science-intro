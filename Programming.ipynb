{
 "cells": [
  {
   "cell_type": "code",
   "execution_count": 7,
   "metadata": {},
   "outputs": [
    {
     "name": "stdout",
     "output_type": "stream",
     "text": [
      "Enter a decimal number: 14598366\n",
      "Binary: 110111101100000011011110\n",
      "Octal: 67540336\n",
      "Hexdecimal: DEC0DE\n"
     ]
    }
   ],
   "source": [
    "num = int(input(\"Enter a decimal number: \"))\n",
    "print(\"Binary: \" + bin(num)[2:])\n",
    "print(\"Octal: \" + oct(num)[2:])\n",
    "print(\"Hexdecimal: \" + hex(num)[2:].upper())"
   ]
  },
  {
   "cell_type": "code",
   "execution_count": null,
   "metadata": {},
   "outputs": [],
   "source": []
  }
 ],
 "metadata": {
  "kernelspec": {
   "display_name": "Python 3",
   "language": "python",
   "name": "python3"
  }
 },
 "nbformat": 4,
 "nbformat_minor": 4
}
