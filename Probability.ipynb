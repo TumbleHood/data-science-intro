{
 "cells": [
  {
   "cell_type": "code",
   "execution_count": 1,
   "metadata": {},
   "outputs": [],
   "source": [
    "# 1.A\n",
    "# P(twin is identical) = P(identical twin)/P(twin)\n",
    "# P(twin) = P(identical twin) + P(non-identical twin) = 1/300 + 1/125 = 17/1500\n",
    "# P(twin is identical) = P(identical twin) / P(twin) = (1/300) / (17/1500) = 5/17 = 0.2941\n",
    "\n",
    "# 1.B\n",
    "# P(bowl 1) = 0.5\n",
    "# P(chocolate cookie from bowl 1) = 30/40 = 0.75\n",
    "# P(chocolate cookie & bowl 1) = 0.5 * 0.75 = 0.375"
   ]
  },
  {
   "cell_type": "code",
   "execution_count": 3,
   "metadata": {},
   "outputs": [],
   "source": [
    "# 2\n",
    "# P(yellow from 1994) = 20% = 0.2\n",
    "# P(yellow from 1996) = 14% = 0.14\n",
    "# P(green from 1994) = 10% = 0.1\n",
    "# P(green from 1996) = 20% = 0.2\n",
    "# P(yellow) = 0.2 + 0.14 = 0.34\n",
    "# P(green) = 0.1 + 0.2 = 0.3\n",
    "# P(yellw from 1994 & green from 1996) = (0.2/0.34) * (0.2/0.3) = 20/51 = 0.3921"
   ]
  },
  {
   "cell_type": "code",
   "execution_count": 1,
   "metadata": {},
   "outputs": [],
   "source": [
    "# 3.A\n",
    "# P(true positive) = 1 - P(false positive) = 0.99\n",
    "# P(you might have swine flu) = 1/10000 = 0.0001\n",
    "# P(you have swine flu) = 0.0001 * 0.99 = 0.000099\n",
    "\n",
    "# 3.B\n",
    "# P(you came back from Thailand with swine flu) = 1/200 = 0.005\n",
    "# P(true positive) = 0.99\n",
    "# P(you have swine flu) = 0.005 * 0.99 = 0.00495"
   ]
  },
  {
   "cell_type": "code",
   "execution_count": 3,
   "metadata": {},
   "outputs": [],
   "source": [
    "# Random Variables:\n",
    "\n",
    "# 1\n",
    "# X = Roi's value. if the sum is divisible by 3, X=6$. if not, X=-5$\n",
    "# divisible by 3:\n",
    "# (1,2) , (1,5)\n",
    "# (2,1) , (2,4)\n",
    "# (3,0) , (3,3) , (3,6)\n",
    "# (4,2) , (4,5)\n",
    "# (5,1) , (5,4)\n",
    "# (6,0) , (6,3) , (6,6)\n",
    "# P(X=6$) = 14/36 = 7/18 = 0.3888\n",
    "# P(X=-5$) = 1 - 14/36 = 11/18 = 0.6111\n",
    "# Roi's expected value:\n",
    "# E(X) = 0.3888*6$ - 0.6111*3$ = 0.5$ "
   ]
  },
  {
   "cell_type": "code",
   "execution_count": 1,
   "metadata": {},
   "outputs": [],
   "source": [
    "# 2\n",
    "# X = Alex's value. if the sum is greater than 12, X=5$. if it is smaller than 12, X=-6$. otherwise, X=0$\n",
    "# more than 12:\n",
    "# (3,10)\n",
    "# (4,9) , (4, 10)\n",
    "# (5,8) , (5,9) , (5,10)\n",
    "# P(X=5$) = 6/25 = 0.24\n",
    "# less than 12:\n",
    "# (1,6) , (1,7) , (1,8) , (1,9) , (1, 10)\n",
    "# (2,6) , (2,7) , (2,8) , (2,9)\n",
    "# (3,6) , (3,7) , (3,8)\n",
    "# (4,6) , (4,7)\n",
    "# (5,6)\n",
    "# P(X=-6$) = 15/25 = 0.6\n",
    "# Alex's expected value:\n",
    "# E(X) = 0.24*5$ - 0.6*6$ = -2.4$"
   ]
  },
  {
   "cell_type": "code",
   "execution_count": 4,
   "metadata": {},
   "outputs": [],
   "source": [
    "# 3\n",
    "# The mean of the number of males selected each month is 3.2, since in average it would consist of 40% males and 60% females.\n",
    "# 3.2 is rounded to 3 since we can't have a fifth of a person.\n",
    "# Standard deviation:\n",
    "# P(male) = 80/200 (= 0.4), P(female) = 120/200 (= 0.6)\n",
    "# P(0 males, 8 females) = 120/200 * 119/199 * 118/198 * 117/197 * 116/196 * 115/195 * 114/194 * 113/193 * 8C0 = 0.01525 (* 1)\n",
    "# P(1m, 7f) = 80/200 * 120/199 * 119/198 * 118/197 * 117/196 * 116/195 * 115/194 * 114/193 * 8C1 = 0.0107 * 8 = 0.0863\n",
    "# P(2m, 6f) = 80/200 * 79/199 * 120/198 * 119/197 * 118/196 * 117/195 * 116/194 * 115/193 * 8C2 = 0.00748 * 28 = 0.2094\n",
    "# P(3m, 5f) = 80/200 * 79/199 * 78/198 * 120/197 * 119/196 * 118/195 * 117/194 * 116/193 * 8C3 = 0.00507 * 56 = 0.2841\n",
    "# P(4m, 4f) = 80/200 * 79/199 * 78/198 * 77/197 * 120/196 * 119/195 * 118/194 * 117/193 * 8C4 =  0.00336 * 70 = 0.23579\n",
    "# P(5m, 3f) = 80/200 * 79/199 * 78/198 * 77/197 * 76/196 * 120/195 * 119/194 * 118/193 * 8C5 =  0.00218 * 56 = 0.1225\n",
    "# P(6m, 2f) = 80/200 * 79/199 * 78/198 * 77/197 * 76/196 * 75/195 * 120/194 * 119/193 * 8C6 =  0.00139 * 28 = 0.0389\n",
    "# P(7m, 1f) = 80/200 * 79/199 * 78/198 * 77/197 * 76/196 * 75/195 * 74/194 * 120/193 * 8C7 =  0.00086 * 8 = 0.0069\n",
    "# P(8m, 0f) = 80/200 * 79/199 * 78/198 * 77/197 * 76/196 * 75/195 * 74/194 * 73/193 * 8C8 = 0.000526 (* 1)\n",
    "# There are 9 instances of choosing 8 employees.\n",
    "# Standard deviation = Sqrt(Sum((x - mean)^2)/9)\n",
    "# Sum((x - mean)^2) = Sum((x - 3.2)^2) = \n",
    "# (0.01525 - 3.2)^2 + (0.0863 - 3.2)^2 + (0.2094 - 3.2)^2 + (0.2841 - 3.2)^2 + (0.2357 - 32)^2 + (0.1225 - 3.2)^2\n",
    "# + (0.0389 - 3.2)^2 + (0.0069 - 3.2)^2 + (0.000526 - 3.2)^2 =\n",
    "# 10.1426 + 9.6946 + 8.9431 + 8.502 + 8.7865 + 9.4708 + 9.9923 + 10.1957 + 10.2063 = 85.9339\n",
    "# Sqrt(85.9339/9) = Sqrt(9.5482) = 3.09\n",
    "# The mean is 3, and the standard deviation is 3.09."
   ]
  },
  {
   "cell_type": "code",
   "execution_count": 5,
   "metadata": {},
   "outputs": [],
   "source": [
    "# 4\n",
    "# Mean = 26k$\n",
    "# Standard deviation = 2k$\n",
    "# P(X>26) = 50% (since this is the mean)\n",
    "# p(X<30):\n",
    "# Z score = (x-mean)/(standard deviation) = (30-26)/2 = 4/2 = 2\n",
    "# According to the normal distribution table, when the Z score is 2, the probability is 0.9772\n",
    "# p(26<x<30) = P(x<30) - p(x>26) = 0.9772 - 0.5 = 0.4772"
   ]
  },
  {
   "cell_type": "code",
   "execution_count": 6,
   "metadata": {},
   "outputs": [],
   "source": [
    "# 5\n",
    "# If we split the graph to 2 parts; 1 in which x>3 and one in which x<3,\n",
    "# we get 2 areas in form of tirangles that we can calculate.\n",
    "# The total area is (5*0.4)/2 = 1 which is our 100%.\n",
    "# When x>3 the area is (2*0.4)/2 = 0.4 which is 40%.\n",
    "# P(x>3) = 0.4 = 40%"
   ]
  },
  {
   "cell_type": "code",
   "execution_count": 7,
   "metadata": {},
   "outputs": [],
   "source": [
    "# 6\n",
    "# P(employee has children) = 0.6 = 300/500, P(employee does not have children) = 1 - 0.6 = 0.4 = 200/500\n",
    "# P(3 has children, 1 doesn't) = 300/500 * 299/499 * 298/498 * 200/497 * 4C3 = 0.0865 * 4 = 0.3462"
   ]
  },
  {
   "cell_type": "code",
   "execution_count": null,
   "metadata": {},
   "outputs": [],
   "source": [
    "# 7\n",
    "# P(x=-10) = 0.1\n",
    "# P(x=-5) = 0.35\n",
    "# P(x=0) = 0.1\n",
    "# P(x=5) = 0.35\n",
    "# P(x=10) = 0.1\n",
    "# E(x) = -10*0.1 + -5*0.35 + 0*0.1 + 5*0.35 + 10*0.1 = 0\n",
    "# The expected value of x is 0."
   ]
  }
 ],
 "metadata": {
  "kernelspec": {
   "display_name": "Python 3",
   "language": "python",
   "name": "python3"
  },
  "language_info": {
   "codemirror_mode": {
    "name": "ipython",
    "version": 3
   },
   "file_extension": ".py",
   "mimetype": "text/x-python",
   "name": "python",
   "nbconvert_exporter": "python",
   "pygments_lexer": "ipython3",
   "version": "3.8.3"
  }
 },
 "nbformat": 4,
 "nbformat_minor": 4
}
