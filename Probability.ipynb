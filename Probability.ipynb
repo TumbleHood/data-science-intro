{
 "cells": [
  {
   "cell_type": "code",
   "execution_count": 1,
   "metadata": {},
   "outputs": [],
   "source": [
    "# 1.A\n",
    "# P(twin is identical) = P(identical twin)/P(twin)\n",
    "# P(twin) = P(identical twin) + P(non-identical twin) = 1/300 + 1/125 = 17/1500\n",
    "# P(twin is identical) = P(identical twin) / P(twin) = (1/300) / (17/1500) = 5/17 = 0.2941\n",
    "\n",
    "# 1.B\n",
    "# P(bowl 1) = 0.5\n",
    "# P(chocolate cookie from bowl 1) = 30/40 = 0.75\n",
    "# P(chocolate cookie & bowl 1) = 0.5 * 0.75 = 0.375"
   ]
  },
  {
   "cell_type": "code",
   "execution_count": 3,
   "metadata": {},
   "outputs": [],
   "source": [
    "# 2\n",
    "# P(yellow from 1994) = 20% = 0.2\n",
    "# P(yellow from 1996) = 14% = 0.14\n",
    "# P(green from 1994) = 10% = 0.1\n",
    "# P(green from 1996) = 20% = 0.2\n",
    "# P(yellow) = 0.2 + 0.14 = 0.34\n",
    "# P(green) = 0.1 + 0.2 = 0.3\n",
    "# P(yellw from 1994 & green from 1996) = (0.2/0.34) * (0.2/0.3) = 20/51 = 0.3921"
   ]
  },
  {
   "cell_type": "code",
   "execution_count": 1,
   "metadata": {},
   "outputs": [],
   "source": [
    "# 3.A\n",
    "# P(true positive) = 1 - P(false positive) = 0.99\n",
    "# P(you might have swine flu) = 1/10000 = 0.0001\n",
    "# P(you have swine flu) = 0.0001 * 0.99 = 0.000099\n",
    "\n",
    "# 3.B\n",
    "# P(you came back from Thailand with swine flu) = 1/200 = 0.005\n",
    "# P(true positive) = 0.99\n",
    "# P(you have swine flu) = 0.005 * 0.99 = 0.00495"
   ]
  },
  {
   "cell_type": "code",
   "execution_count": 3,
   "metadata": {},
   "outputs": [],
   "source": [
    "# Random Variables:\n",
    "\n",
    "# 1\n",
    "# X = Roi's value. if the sum is divisible by 3, X=6$. if not, X=-5$\n",
    "# divisible by 3:\n",
    "# (1,2) , (1,5)\n",
    "# (2,1) , (2,4)\n",
    "# (3,0) , (3,3) , (3,6)\n",
    "# (4,2) , (4,5)\n",
    "# (5,1) , (5,4)\n",
    "# (6,0) , (6,3) , (6,6)\n",
    "# P(X=6$) = 14/36 = 7/18 = 0.3888\n",
    "# P(X=-5$) = 1 - 14/36 = 11/18 = 0.6111\n",
    "# Roi's expected value:\n",
    "# E(X) = 0.3888*6$ - 0.6111*3$ = 0.5$ "
   ]
  },
  {
   "cell_type": "code",
   "execution_count": null,
   "metadata": {},
   "outputs": [],
   "source": [
    "# 2\n",
    "# X = Alex's value. if the sum is greater than 12, X=5$. if it is smaller than 12, X=-6$. otherwise, X=0$\n",
    "# more than 12:\n",
    "# (3,10)\n",
    "# (4,9) , (4, 10)\n",
    "# (5,8) , (5,9) , (5,10)\n",
    "# P(X=5$) = 6/25 = 0.24\n",
    "# less than 12:\n",
    "# (1,6) , (1,7) , (1,8) , (1,9) , (1, 10)\n",
    "# (2,6) , (2,7) , (2,8) , (2,9)\n",
    "# (3,6) , (3,7) , (3,8)\n",
    "# (4,6) , (4,7)\n",
    "# (5,6)\n",
    "# P(X=-6$) = 15/25 = 0.6\n",
    "# Alex's expected value:\n",
    "# E(X) = 0.24*5$ - 0.6*6$ = -2.4$"
   ]
  }
 ],
 "metadata": {
  "kernelspec": {
   "display_name": "Python 3",
   "language": "python",
   "name": "python3"
  },
  "language_info": {
   "codemirror_mode": {
    "name": "ipython",
    "version": 3
   },
   "file_extension": ".py",
   "mimetype": "text/x-python",
   "name": "python",
   "nbconvert_exporter": "python",
   "pygments_lexer": "ipython3",
   "version": "3.8.3"
  }
 },
 "nbformat": 4,
 "nbformat_minor": 4
}
